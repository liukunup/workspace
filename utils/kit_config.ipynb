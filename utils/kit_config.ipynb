{
 "cells": [
  {
   "cell_type": "code",
   "execution_count": null,
   "id": "bc3a52b0-14b3-4fa0-b2f1-97ac7935ce3e",
   "metadata": {},
   "outputs": [],
   "source": [
    "#!/usr/bin/python\n",
    "# -*- coding: UTF-8 -*-\n",
    "# author : Liu Kun\n",
    "# date   : 2021-08-27 23:46:55\n",
    "\n",
    "import os\n",
    "import yaml\n",
    "\n",
    "\n",
    "class Config(object):\n",
    "    \n",
    "    __debug = False\n",
    "    __filename = None\n",
    "    __yaml = None\n",
    "    \n",
    "    def __init__(self, filename, debug=True):\n",
    "        self.__filename = filename\n",
    "        self.__debug = debug\n",
    "        self.__load()\n",
    "        pass\n",
    "    \n",
    "    def __load(self):\n",
    "        if not os.access(self.__filename, os.F_OK):\n",
    "            print(f'The config file {self.__filename} not exist!!!')\n",
    "            return None\n",
    "        with open(self.__filename, 'r') as f:\n",
    "            self.__yaml = yaml.load(f, Loader=yaml.FullLoader)\n",
    "            if self.__debug:\n",
    "                print(self.__yaml)\n",
    "        pass\n",
    "    \n",
    "    def get_database(self, tag):\n",
    "        return self.__get_conf('database', tag)\n",
    "    \n",
    "    def get_object_storage(self, tag):\n",
    "        return self.__get_conf('object-storage', tag)\n",
    "    \n",
    "    def __get_conf(self, node, tag):\n",
    "        if node not in self.__yaml:\n",
    "            print(f'Can not find {node} in yaml!!!')\n",
    "            return None\n",
    "        for e in self.__yaml[node]:\n",
    "            if tag not in e.keys():\n",
    "                continue\n",
    "            return e[tag]\n",
    "        print(f'Can not find {node} tag={tag} in yaml!!!')\n",
    "        return None\n",
    "\n",
    "\n",
    "if __name__ == '__main__':\n",
    "    inst = Config('../resources/config.yaml')\n",
    "    print('-' * 100)\n",
    "    print(inst.get_database('ds218-plus-test'))\n",
    "    print(inst.get_object_storage('ds218-plus-test'))\n",
    "    pass\n"
   ]
  },
  {
   "cell_type": "code",
   "execution_count": null,
   "id": "761d979b-e09a-41be-b37d-e3f781af3b14",
   "metadata": {},
   "outputs": [],
   "source": []
  }
 ],
 "metadata": {
  "kernelspec": {
   "display_name": "Python 3 (ipykernel)",
   "language": "python",
   "name": "python3"
  },
  "language_info": {
   "codemirror_mode": {
    "name": "ipython",
    "version": 3
   },
   "file_extension": ".py",
   "mimetype": "text/x-python",
   "name": "python",
   "nbconvert_exporter": "python",
   "pygments_lexer": "ipython3",
   "version": "3.9.6"
  }
 },
 "nbformat": 4,
 "nbformat_minor": 5
}
